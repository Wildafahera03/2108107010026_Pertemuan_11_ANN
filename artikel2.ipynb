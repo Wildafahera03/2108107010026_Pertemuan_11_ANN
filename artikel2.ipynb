{
 "cells": [
  {
   "cell_type": "markdown",
   "metadata": {},
   "source": [
    "## IMPORT LIBRARY"
   ]
  },
  {
   "cell_type": "markdown",
   "metadata": {},
   "source": [
    "mengimpor library dasar yang diperlukan dalam pembahasan kali ini (belum memasukkan library keras)."
   ]
  },
  {
   "cell_type": "code",
   "execution_count": 1,
   "metadata": {},
   "outputs": [],
   "source": [
    "# Mengimpor library yang diperlukan\n",
    "import numpy as np\n",
    "import matplotlib.pyplot as plt\n",
    "import pandas as pd"
   ]
  },
  {
   "cell_type": "markdown",
   "metadata": {},
   "source": [
    "## IMPORT DATASET"
   ]
  },
  {
   "cell_type": "code",
   "execution_count": 2,
   "metadata": {},
   "outputs": [],
   "source": [
    "# Mengimpor dataset\n",
    "dataset = pd.read_csv('data\\Data_bank_churn.csv')\n",
    "X = dataset.iloc[:, 3:13].values\n",
    "y = dataset.iloc[:, 13].values"
   ]
  },
  {
   "cell_type": "markdown",
   "metadata": {},
   "source": [
    "* melakukan slicing untuk variabel independen X. Kita memerlukan kolom ke 3-12. Perlu diingat dalam python indeks dimulai dari nol, dan indeks terakhir tidak diikutkan.\n",
    "* melakukan slicing untuk variabel dependen y, yaitu kolom terakhir yang menunjukkan status keluar/tidaknya pegawai."
   ]
  },
  {
   "cell_type": "code",
   "execution_count": 3,
   "metadata": {},
   "outputs": [],
   "source": [
    "# Mengonversi data kategori jenis kelamin menjadi numerik\n",
    "from sklearn.preprocessing import LabelEncoder, OneHotEncoder\n",
    "from sklearn.compose import ColumnTransformer\n",
    "labelencoder = LabelEncoder()\n",
    "X[:, 2] = labelencoder.fit_transform(X[:, 2])"
   ]
  },
  {
   "cell_type": "code",
   "execution_count": 4,
   "metadata": {},
   "outputs": [],
   "source": [
    "# Membuat dummy variable untuk kolom negara\n",
    "columnTransformer = ColumnTransformer([('encoder', OneHotEncoder(), [1])], remainder='passthrough')\n",
    "X = np.array(columnTransformer.fit_transform(X), dtype = np.float64)\n",
    "\n",
    "# Menghilangkan 1 dummy variabel di kolom negara\n",
    "X = X[:, 1:]"
   ]
  },
  {
   "cell_type": "code",
   "execution_count": 5,
   "metadata": {},
   "outputs": [],
   "source": [
    "# Membagi data ke test dan training set\n",
    "from sklearn.model_selection import train_test_split\n",
    "X_train, X_test, y_train, y_test = train_test_split(X, y, test_size = 0.2, random_state = 0)\n",
    "\n",
    "# Feature Scaling\n",
    "from sklearn.preprocessing import StandardScaler\n",
    "sc = StandardScaler()\n",
    "X_train = sc.fit_transform(X_train) \n",
    "X_test = sc.transform(X_test) "
   ]
  },
  {
   "cell_type": "code",
   "execution_count": 6,
   "metadata": {},
   "outputs": [
    {
     "name": "stdout",
     "output_type": "stream",
     "text": [
      "WARNING:tensorflow:From c:\\Users\\ASUS\\anaconda3\\Lib\\site-packages\\keras\\src\\losses.py:2976: The name tf.losses.sparse_softmax_cross_entropy is deprecated. Please use tf.compat.v1.losses.sparse_softmax_cross_entropy instead.\n",
      "\n",
      "WARNING:tensorflow:From c:\\Users\\ASUS\\anaconda3\\Lib\\site-packages\\keras\\src\\backend.py:873: The name tf.get_default_graph is deprecated. Please use tf.compat.v1.get_default_graph instead.\n",
      "\n",
      "WARNING:tensorflow:From c:\\Users\\ASUS\\anaconda3\\Lib\\site-packages\\keras\\src\\optimizers\\__init__.py:309: The name tf.train.Optimizer is deprecated. Please use tf.compat.v1.train.Optimizer instead.\n",
      "\n",
      "Epoch 1/100\n",
      "WARNING:tensorflow:From c:\\Users\\ASUS\\anaconda3\\Lib\\site-packages\\keras\\src\\utils\\tf_utils.py:492: The name tf.ragged.RaggedTensorValue is deprecated. Please use tf.compat.v1.ragged.RaggedTensorValue instead.\n",
      "\n",
      "WARNING:tensorflow:From c:\\Users\\ASUS\\anaconda3\\Lib\\site-packages\\keras\\src\\engine\\base_layer_utils.py:384: The name tf.executing_eagerly_outside_functions is deprecated. Please use tf.compat.v1.executing_eagerly_outside_functions instead.\n",
      "\n",
      "800/800 [==============================] - 1s 869us/step - loss: 0.4819 - accuracy: 0.7958\n",
      "Epoch 2/100\n",
      "800/800 [==============================] - 1s 869us/step - loss: 0.4155 - accuracy: 0.7960\n",
      "Epoch 3/100\n",
      "800/800 [==============================] - 1s 825us/step - loss: 0.3944 - accuracy: 0.8104\n",
      "Epoch 4/100\n",
      "800/800 [==============================] - 1s 799us/step - loss: 0.3771 - accuracy: 0.8482\n",
      "Epoch 5/100\n",
      "800/800 [==============================] - 1s 912us/step - loss: 0.3678 - accuracy: 0.8512\n",
      "Epoch 6/100\n",
      "800/800 [==============================] - 1s 947us/step - loss: 0.3626 - accuracy: 0.8550\n",
      "Epoch 7/100\n",
      "800/800 [==============================] - 1s 799us/step - loss: 0.3594 - accuracy: 0.8575\n",
      "Epoch 8/100\n",
      "800/800 [==============================] - 1s 790us/step - loss: 0.3571 - accuracy: 0.8581\n",
      "Epoch 9/100\n",
      "800/800 [==============================] - 1s 800us/step - loss: 0.3557 - accuracy: 0.8593\n",
      "Epoch 10/100\n",
      "800/800 [==============================] - 1s 791us/step - loss: 0.3539 - accuracy: 0.8600\n",
      "Epoch 11/100\n",
      "800/800 [==============================] - 1s 2ms/step - loss: 0.3532 - accuracy: 0.8605\n",
      "Epoch 12/100\n",
      "800/800 [==============================] - 1s 890us/step - loss: 0.3520 - accuracy: 0.8580\n",
      "Epoch 13/100\n",
      "800/800 [==============================] - 1s 847us/step - loss: 0.3516 - accuracy: 0.8609\n",
      "Epoch 14/100\n",
      "800/800 [==============================] - 1s 827us/step - loss: 0.3507 - accuracy: 0.8584\n",
      "Epoch 15/100\n",
      "800/800 [==============================] - 1s 832us/step - loss: 0.3502 - accuracy: 0.8602\n",
      "Epoch 16/100\n",
      "800/800 [==============================] - 1s 764us/step - loss: 0.3497 - accuracy: 0.8579\n",
      "Epoch 17/100\n",
      "800/800 [==============================] - 1s 895us/step - loss: 0.3490 - accuracy: 0.8612\n",
      "Epoch 18/100\n",
      "800/800 [==============================] - 1s 904us/step - loss: 0.3488 - accuracy: 0.8611\n",
      "Epoch 19/100\n",
      "800/800 [==============================] - 1s 834us/step - loss: 0.3480 - accuracy: 0.8604\n",
      "Epoch 20/100\n",
      "800/800 [==============================] - 1s 843us/step - loss: 0.3476 - accuracy: 0.8606\n",
      "Epoch 21/100\n",
      "800/800 [==============================] - 1s 817us/step - loss: 0.3470 - accuracy: 0.8595\n",
      "Epoch 22/100\n",
      "800/800 [==============================] - 1s 782us/step - loss: 0.3473 - accuracy: 0.8584\n",
      "Epoch 23/100\n",
      "800/800 [==============================] - 1s 904us/step - loss: 0.3472 - accuracy: 0.8621\n",
      "Epoch 24/100\n",
      "800/800 [==============================] - 1s 895us/step - loss: 0.3471 - accuracy: 0.8584\n",
      "Epoch 25/100\n",
      "800/800 [==============================] - 1s 834us/step - loss: 0.3465 - accuracy: 0.8580\n",
      "Epoch 26/100\n",
      "800/800 [==============================] - 1s 799us/step - loss: 0.3453 - accuracy: 0.8610\n",
      "Epoch 27/100\n",
      "800/800 [==============================] - 1s 773us/step - loss: 0.3462 - accuracy: 0.8602\n",
      "Epoch 28/100\n",
      "800/800 [==============================] - 1s 756us/step - loss: 0.3457 - accuracy: 0.8579\n",
      "Epoch 29/100\n",
      "800/800 [==============================] - 1s 825us/step - loss: 0.3451 - accuracy: 0.8629\n",
      "Epoch 30/100\n",
      "800/800 [==============================] - 1s 1ms/step - loss: 0.3454 - accuracy: 0.8596\n",
      "Epoch 31/100\n",
      "800/800 [==============================] - 1s 863us/step - loss: 0.3450 - accuracy: 0.8595\n",
      "Epoch 32/100\n",
      "800/800 [==============================] - 1s 846us/step - loss: 0.3450 - accuracy: 0.8584\n",
      "Epoch 33/100\n",
      "800/800 [==============================] - 1s 909us/step - loss: 0.3441 - accuracy: 0.8585\n",
      "Epoch 34/100\n",
      "800/800 [==============================] - 1s 843us/step - loss: 0.3445 - accuracy: 0.8614\n",
      "Epoch 35/100\n",
      "800/800 [==============================] - 1s 904us/step - loss: 0.3441 - accuracy: 0.8611\n",
      "Epoch 36/100\n",
      "800/800 [==============================] - 1s 912us/step - loss: 0.3440 - accuracy: 0.8616\n",
      "Epoch 37/100\n",
      "800/800 [==============================] - 1s 860us/step - loss: 0.3444 - accuracy: 0.8609\n",
      "Epoch 38/100\n",
      "800/800 [==============================] - 1s 868us/step - loss: 0.3437 - accuracy: 0.8618\n",
      "Epoch 39/100\n",
      "800/800 [==============================] - 1s 834us/step - loss: 0.3431 - accuracy: 0.8599\n",
      "Epoch 40/100\n",
      "800/800 [==============================] - 1s 799us/step - loss: 0.3437 - accuracy: 0.8600\n",
      "Epoch 41/100\n",
      "800/800 [==============================] - 1s 817us/step - loss: 0.3431 - accuracy: 0.8610\n",
      "Epoch 42/100\n",
      "800/800 [==============================] - 1s 860us/step - loss: 0.3433 - accuracy: 0.8619\n",
      "Epoch 43/100\n",
      "800/800 [==============================] - 1s 791us/step - loss: 0.3430 - accuracy: 0.8606\n",
      "Epoch 44/100\n",
      "800/800 [==============================] - 1s 774us/step - loss: 0.3431 - accuracy: 0.8616\n",
      "Epoch 45/100\n",
      "800/800 [==============================] - 1s 782us/step - loss: 0.3426 - accuracy: 0.8602\n",
      "Epoch 46/100\n",
      "800/800 [==============================] - 1s 799us/step - loss: 0.3427 - accuracy: 0.8619\n",
      "Epoch 47/100\n",
      "800/800 [==============================] - 1s 791us/step - loss: 0.3427 - accuracy: 0.8605\n",
      "Epoch 48/100\n",
      "800/800 [==============================] - 1s 834us/step - loss: 0.3421 - accuracy: 0.8615\n",
      "Epoch 49/100\n",
      "800/800 [==============================] - 1s 808us/step - loss: 0.3422 - accuracy: 0.8600\n",
      "Epoch 50/100\n",
      "800/800 [==============================] - 1s 808us/step - loss: 0.3423 - accuracy: 0.8622\n",
      "Epoch 51/100\n",
      "800/800 [==============================] - 1s 774us/step - loss: 0.3426 - accuracy: 0.8611\n",
      "Epoch 52/100\n",
      "800/800 [==============================] - 1s 808us/step - loss: 0.3425 - accuracy: 0.8616\n",
      "Epoch 53/100\n",
      "800/800 [==============================] - 1s 817us/step - loss: 0.3430 - accuracy: 0.8610\n",
      "Epoch 54/100\n",
      "800/800 [==============================] - 1s 826us/step - loss: 0.3419 - accuracy: 0.8606\n",
      "Epoch 55/100\n",
      "800/800 [==============================] - 1s 861us/step - loss: 0.3424 - accuracy: 0.8608\n",
      "Epoch 56/100\n",
      "800/800 [==============================] - 1s 773us/step - loss: 0.3420 - accuracy: 0.8621\n",
      "Epoch 57/100\n",
      "800/800 [==============================] - 1s 765us/step - loss: 0.3420 - accuracy: 0.8615\n",
      "Epoch 58/100\n",
      "800/800 [==============================] - 1s 799us/step - loss: 0.3423 - accuracy: 0.8602\n",
      "Epoch 59/100\n",
      "800/800 [==============================] - 1s 861us/step - loss: 0.3422 - accuracy: 0.8610\n",
      "Epoch 60/100\n",
      "800/800 [==============================] - 1s 826us/step - loss: 0.3420 - accuracy: 0.8629\n",
      "Epoch 61/100\n",
      "800/800 [==============================] - 1s 825us/step - loss: 0.3418 - accuracy: 0.8602\n",
      "Epoch 62/100\n",
      "800/800 [==============================] - 1s 799us/step - loss: 0.3419 - accuracy: 0.8612\n",
      "Epoch 63/100\n",
      "800/800 [==============================] - 1s 799us/step - loss: 0.3418 - accuracy: 0.8610\n",
      "Epoch 64/100\n",
      "800/800 [==============================] - 1s 808us/step - loss: 0.3421 - accuracy: 0.8601\n",
      "Epoch 65/100\n",
      "800/800 [==============================] - 1s 800us/step - loss: 0.3416 - accuracy: 0.8626\n",
      "Epoch 66/100\n",
      "800/800 [==============================] - 1s 843us/step - loss: 0.3416 - accuracy: 0.8612\n",
      "Epoch 67/100\n",
      "800/800 [==============================] - 1s 817us/step - loss: 0.3421 - accuracy: 0.8601\n",
      "Epoch 68/100\n",
      "800/800 [==============================] - 1s 799us/step - loss: 0.3414 - accuracy: 0.8629\n",
      "Epoch 69/100\n",
      "800/800 [==============================] - 1s 782us/step - loss: 0.3416 - accuracy: 0.8608\n",
      "Epoch 70/100\n",
      "800/800 [==============================] - 1s 809us/step - loss: 0.3418 - accuracy: 0.8611\n",
      "Epoch 71/100\n",
      "800/800 [==============================] - 1s 825us/step - loss: 0.3416 - accuracy: 0.8616\n",
      "Epoch 72/100\n",
      "800/800 [==============================] - 1s 808us/step - loss: 0.3414 - accuracy: 0.8595\n",
      "Epoch 73/100\n",
      "800/800 [==============================] - 1s 808us/step - loss: 0.3415 - accuracy: 0.8625\n",
      "Epoch 74/100\n",
      "800/800 [==============================] - 1s 834us/step - loss: 0.3413 - accuracy: 0.8629\n",
      "Epoch 75/100\n",
      "800/800 [==============================] - 1s 826us/step - loss: 0.3414 - accuracy: 0.8610\n",
      "Epoch 76/100\n",
      "800/800 [==============================] - 1s 782us/step - loss: 0.3414 - accuracy: 0.8640\n",
      "Epoch 77/100\n",
      "800/800 [==============================] - 1s 843us/step - loss: 0.3409 - accuracy: 0.8641\n",
      "Epoch 78/100\n",
      "800/800 [==============================] - 1s 808us/step - loss: 0.3408 - accuracy: 0.8609\n",
      "Epoch 79/100\n",
      "800/800 [==============================] - 1s 817us/step - loss: 0.3412 - accuracy: 0.8611\n",
      "Epoch 80/100\n",
      "800/800 [==============================] - 1s 808us/step - loss: 0.3419 - accuracy: 0.8615\n",
      "Epoch 81/100\n",
      "800/800 [==============================] - 1s 774us/step - loss: 0.3414 - accuracy: 0.8624\n",
      "Epoch 82/100\n",
      "800/800 [==============================] - 1s 773us/step - loss: 0.3410 - accuracy: 0.8631\n",
      "Epoch 83/100\n",
      "800/800 [==============================] - 1s 843us/step - loss: 0.3405 - accuracy: 0.8605\n",
      "Epoch 84/100\n",
      "800/800 [==============================] - 1s 799us/step - loss: 0.3408 - accuracy: 0.8626\n",
      "Epoch 85/100\n",
      "800/800 [==============================] - 1s 782us/step - loss: 0.3415 - accuracy: 0.8624\n",
      "Epoch 86/100\n",
      "800/800 [==============================] - 1s 791us/step - loss: 0.3412 - accuracy: 0.8621\n",
      "Epoch 87/100\n",
      "800/800 [==============================] - 1s 773us/step - loss: 0.3411 - accuracy: 0.8630\n",
      "Epoch 88/100\n",
      "800/800 [==============================] - 1s 791us/step - loss: 0.3410 - accuracy: 0.8624\n",
      "Epoch 89/100\n",
      "800/800 [==============================] - 1s 756us/step - loss: 0.3410 - accuracy: 0.8608\n",
      "Epoch 90/100\n",
      "800/800 [==============================] - 1s 799us/step - loss: 0.3402 - accuracy: 0.8629\n",
      "Epoch 91/100\n",
      "800/800 [==============================] - 1s 799us/step - loss: 0.3409 - accuracy: 0.8621\n",
      "Epoch 92/100\n",
      "800/800 [==============================] - 1s 826us/step - loss: 0.3411 - accuracy: 0.8619\n",
      "Epoch 93/100\n",
      "800/800 [==============================] - 1s 808us/step - loss: 0.3407 - accuracy: 0.8618\n",
      "Epoch 94/100\n",
      "800/800 [==============================] - 1s 774us/step - loss: 0.3408 - accuracy: 0.8616\n",
      "Epoch 95/100\n",
      "800/800 [==============================] - 1s 765us/step - loss: 0.3413 - accuracy: 0.8620\n",
      "Epoch 96/100\n",
      "800/800 [==============================] - 1s 860us/step - loss: 0.3411 - accuracy: 0.8611\n",
      "Epoch 97/100\n",
      "800/800 [==============================] - 1s 817us/step - loss: 0.3405 - accuracy: 0.8626\n",
      "Epoch 98/100\n",
      "800/800 [==============================] - 1s 800us/step - loss: 0.3409 - accuracy: 0.8604\n",
      "Epoch 99/100\n",
      "800/800 [==============================] - 1s 800us/step - loss: 0.3409 - accuracy: 0.8624\n",
      "Epoch 100/100\n",
      "800/800 [==============================] - 1s 807us/step - loss: 0.3408 - accuracy: 0.8635\n"
     ]
    },
    {
     "data": {
      "text/plain": [
       "<keras.src.callbacks.History at 0x1da7d5ce8d0>"
      ]
     },
     "execution_count": 6,
     "metadata": {},
     "output_type": "execute_result"
    }
   ],
   "source": [
    "# Mengimpor library Keras dan turunannya\n",
    "# Sekarang menggunakan TensorFlow 2.0\n",
    "from tensorflow.keras.models import Sequential\n",
    "from tensorflow.keras.layers import Dense\n",
    "\n",
    "# Inisialisasi ANN\n",
    "MesinKlasifikasi = Sequential()\n",
    "# Menambah input layer dan hidden layer pertama\n",
    "MesinKlasifikasi.add(Dense(units = 6, kernel_initializer = 'uniform', activation = 'relu', input_dim = 11))\n",
    "# Menambah hidden layer kedua\n",
    "MesinKlasifikasi.add(Dense(units = 6, kernel_initializer = 'uniform', activation = 'relu'))\n",
    "# Menambah output layer\n",
    "MesinKlasifikasi.add(Dense(units = 1, kernel_initializer = 'uniform', activation = 'sigmoid'))\n",
    "# Meenjalankan ANN\n",
    "MesinKlasifikasi.compile(optimizer = 'adam', loss = 'binary_crossentropy', metrics = ['accuracy'])\n",
    "# Fitting ANN ke training set\n",
    "MesinKlasifikasi.fit(X_train, y_train, batch_size = 10, epochs = 100)"
   ]
  },
  {
   "cell_type": "code",
   "execution_count": 7,
   "metadata": {},
   "outputs": [
    {
     "name": "stdout",
     "output_type": "stream",
     "text": [
      "Model: \"sequential\"\n",
      "_________________________________________________________________\n",
      " Layer (type)                Output Shape              Param #   \n",
      "=================================================================\n",
      " dense (Dense)               (None, 6)                 72        \n",
      "                                                                 \n",
      " dense_1 (Dense)             (None, 6)                 42        \n",
      "                                                                 \n",
      " dense_2 (Dense)             (None, 1)                 7         \n",
      "                                                                 \n",
      "=================================================================\n",
      "Total params: 121 (484.00 Byte)\n",
      "Trainable params: 121 (484.00 Byte)\n",
      "Non-trainable params: 0 (0.00 Byte)\n",
      "_________________________________________________________________\n"
     ]
    }
   ],
   "source": [
    "# summary model\n",
    "MesinKlasifikasi.summary()"
   ]
  },
  {
   "cell_type": "code",
   "execution_count": 8,
   "metadata": {},
   "outputs": [
    {
     "name": "stdout",
     "output_type": "stream",
     "text": [
      "63/63 [==============================] - 0s 814us/step\n"
     ]
    }
   ],
   "source": [
    "# Memprediksi hasil test set\n",
    "y_pred = MesinKlasifikasi.predict(X_test)\n",
    "y_pred = (y_pred > 0.5)\n"
   ]
  },
  {
   "cell_type": "code",
   "execution_count": 9,
   "metadata": {},
   "outputs": [
    {
     "name": "stdout",
     "output_type": "stream",
     "text": [
      "[[1521   74]\n",
      " [ 197  208]]\n"
     ]
    }
   ],
   "source": [
    "# Membuat confusion matrix\n",
    "from sklearn.metrics import confusion_matrix\n",
    "cm = confusion_matrix(y_test, y_pred)\n",
    "print(cm)"
   ]
  },
  {
   "cell_type": "code",
   "execution_count": 10,
   "metadata": {},
   "outputs": [
    {
     "name": "stdout",
     "output_type": "stream",
     "text": [
      "              precision    recall  f1-score   support\n",
      "\n",
      "           0       0.89      0.95      0.92      1595\n",
      "           1       0.74      0.51      0.61       405\n",
      "\n",
      "    accuracy                           0.86      2000\n",
      "   macro avg       0.81      0.73      0.76      2000\n",
      "weighted avg       0.86      0.86      0.85      2000\n",
      "\n"
     ]
    }
   ],
   "source": [
    "# Evaluasi model\n",
    "from sklearn.metrics import classification_report\n",
    "print(classification_report(y_test, y_pred))"
   ]
  }
 ],
 "metadata": {
  "kernelspec": {
   "display_name": "base",
   "language": "python",
   "name": "python3"
  },
  "language_info": {
   "codemirror_mode": {
    "name": "ipython",
    "version": 3
   },
   "file_extension": ".py",
   "mimetype": "text/x-python",
   "name": "python",
   "nbconvert_exporter": "python",
   "pygments_lexer": "ipython3",
   "version": "3.11.4"
  }
 },
 "nbformat": 4,
 "nbformat_minor": 2
}
